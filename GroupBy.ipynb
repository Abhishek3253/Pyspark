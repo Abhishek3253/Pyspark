{
  "nbformat": 4,
  "nbformat_minor": 0,
  "metadata": {
    "colab": {
      "name": "GroupBy.ipynb",
      "provenance": [],
      "toc_visible": true,
      "authorship_tag": "ABX9TyMSgy2b3iUJ4PbfYv2DF/mS",
      "include_colab_link": true
    },
    "kernelspec": {
      "name": "python3",
      "display_name": "Python 3"
    },
    "language_info": {
      "name": "python"
    }
  },
  "cells": [
    {
      "cell_type": "markdown",
      "metadata": {
        "id": "view-in-github",
        "colab_type": "text"
      },
      "source": [
        "<a href=\"https://colab.research.google.com/github/Abhishek3253/Pyspark/blob/main/GroupBy.ipynb\" target=\"_parent\"><img src=\"https://colab.research.google.com/assets/colab-badge.svg\" alt=\"Open In Colab\"/></a>"
      ]
    },
    {
      "cell_type": "code",
      "execution_count": 1,
      "metadata": {
        "colab": {
          "base_uri": "https://localhost:8080/"
        },
        "id": "Mq_jVgmqHB-u",
        "outputId": "c4000ac3-9bc1-4251-861a-edd5b9b5d005"
      },
      "outputs": [
        {
          "output_type": "stream",
          "name": "stdout",
          "text": [
            "Mounted at /content/drive\n"
          ]
        }
      ],
      "source": [
        "from google.colab import drive\n",
        "drive.mount('/content/drive')\n",
        "\n",
        "!apt-get install openjdk-8-jdk-headless -qq > /dev/null\n",
        "\n",
        "\n",
        "!wget -q https://dlcdn.apache.org/spark/spark-3.2.1/spark-3.2.1-bin-hadoop3.2.tgz\n",
        "\n",
        "\n",
        "\n",
        "!tar xf spark-3.2.1-bin-hadoop3.2.tgz\n",
        "\n",
        "!pip install -q findspark\n",
        "\n",
        "import os\n",
        "os.environ[\"JAVA_HOME\"] = \"/usr/lib/jvm/java-8-openjdk-amd64\"\n",
        "os.environ[\"SPARK_HOME\"] = \"/content/spark-3.2.1-bin-hadoop3.2\"\n",
        "\n",
        "import findspark\n",
        "findspark.init()\n",
        "\n",
        "findspark.find()\n",
        "\n",
        "from pyspark.sql import SparkSession\n",
        "\n",
        "spark = SparkSession.builder\\\n",
        "        .master(\"local\")\\\n",
        "        .appName(\"Colab\")\\\n",
        "        .config('spark.ui.port', '4050')\\\n",
        "        .getOrCreate()"
      ]
    },
    {
      "cell_type": "code",
      "source": [
        "df = spark.read.csv(\"/content/assignment.csv\",header=True ,inferSchema=True)"
      ],
      "metadata": {
        "id": "cEwcPWsHIHad"
      },
      "execution_count": 5,
      "outputs": []
    },
    {
      "cell_type": "code",
      "source": [
        "df.show(5)"
      ],
      "metadata": {
        "colab": {
          "base_uri": "https://localhost:8080/"
        },
        "id": "Nb9gKWhPJntU",
        "outputId": "1061e20f-b6c6-46bb-b99a-605c53f05c29"
      },
      "execution_count": 9,
      "outputs": [
        {
          "output_type": "stream",
          "name": "stdout",
          "text": [
            "+------+---------------+----------+------+--------+\n",
            "|userid|        emailid|      date|amount|discount|\n",
            "+------+---------------+----------+------+--------+\n",
            "|     1|test1@gmail.com|01-01-2019|   100|     1.0|\n",
            "|     2|test2@gmail.com|02-01-2019|   100|     1.0|\n",
            "|     3|test3@gmail.com|03-01-2019|   101|     2.0|\n",
            "|     4|test4@gmail.com|04-01-2019|   102|    10.0|\n",
            "|     5|test5@gmail.com|05-01-2019| 102.5|     2.0|\n",
            "+------+---------------+----------+------+--------+\n",
            "only showing top 5 rows\n",
            "\n"
          ]
        }
      ]
    },
    {
      "cell_type": "code",
      "source": [
        "from pyspark.sql.functions import *\n",
        "from pyspark.sql.types import *"
      ],
      "metadata": {
        "id": "EStNp4kDKL67"
      },
      "execution_count": 11,
      "outputs": []
    },
    {
      "cell_type": "code",
      "source": [
        "from datetime import datetime\n",
        "def func_year(text):\n",
        "    for fmt in ('%Y-%m-%d', '%d.%m.%Y', '%d/%m/%Y','%d-%m-%Y','%dd-%mm-%yyyy'):\n",
        "        try:\n",
        "            date_object = datetime.strptime(text, fmt)\n",
        "            converted_date_object = date_object.strftime('%Y')\n",
        "            return converted_date_object\n",
        "\n",
        "        except ValueError:\n",
        "            pass\n",
        "    return 'ERROR_DATE'"
      ],
      "metadata": {
        "id": "TMBSBOYaIuAm"
      },
      "execution_count": 41,
      "outputs": []
    },
    {
      "cell_type": "code",
      "source": [
        "from datetime import datetime\n",
        "def func_month(text):\n",
        "    for fmt in ('%Y-%m-%d', '%d.%m.%Y', '%d/%m/%Y','%d-%m-%Y','%dd-%mm-%yyyy'):\n",
        "        try:\n",
        "            date_object = datetime.strptime(text, fmt)\n",
        "            converted_date_object = date_object.strftime('%Y')\n",
        "            return converted_date_object\n",
        "\n",
        "        except ValueError:\n",
        "            pass\n",
        "    return 'ERROR_DATE'\n"
      ],
      "metadata": {
        "id": "IYGAJchoI7Ri"
      },
      "execution_count": 42,
      "outputs": []
    },
    {
      "cell_type": "code",
      "source": [
        "year_df=udf(lambda x:func_year(x))\n",
        "month_df=udf(lambda x:func_month(x))"
      ],
      "metadata": {
        "id": "pAoEsIG4JGMS"
      },
      "execution_count": 46,
      "outputs": []
    },
    {
      "cell_type": "code",
      "source": [
        "df=df.withColumn(\"year\",year_df(\"date\"))\n",
        "df=df.withColumn(\"month\",month_df(\"date\"))"
      ],
      "metadata": {
        "id": "aCm7SDPfKSo0"
      },
      "execution_count": 47,
      "outputs": []
    },
    {
      "cell_type": "code",
      "source": [
        "df.show(truncate=False)"
      ],
      "metadata": {
        "colab": {
          "base_uri": "https://localhost:8080/"
        },
        "id": "QdATkTF2KyyM",
        "outputId": "25f545e8-b608-41d2-baac-f653760bccf7"
      },
      "execution_count": 48,
      "outputs": [
        {
          "output_type": "stream",
          "name": "stdout",
          "text": [
            "+------+----------------+----------+------+-----------+----+-----+--------+\n",
            "|userid|emailid         |date      |amount|discount   |year|month|activity|\n",
            "+------+----------------+----------+------+-----------+----+-----+--------+\n",
            "|1     |test1@gmail.com |01-01-2019|100   |1.0        |2019|2019 |1       |\n",
            "|2     |test2@gmail.com |02-01-2019|100   |1.0        |2019|2019 |1       |\n",
            "|3     |test3@gmail.com |03-01-2019|101   |2.0        |2019|2019 |1       |\n",
            "|4     |test4@gmail.com |04-01-2019|102   |10.0       |2019|2019 |1       |\n",
            "|5     |test5@gmail.com |05-01-2019|102.5 |2.0        |2019|2019 |1       |\n",
            "|6     |test6@gmail.com |06-01-2019|103.2 |1.0        |2019|2019 |1       |\n",
            "|7     |test7@gmail.com |07-01-2019|103.9 |3.0        |2019|2019 |1       |\n",
            "|8     |test8@gmail.com |08-01-2019|104.6 |5.0        |2019|2019 |1       |\n",
            "|9     |test9@gmail.com |09-01-2019|105.3 |4.571428571|2019|2019 |1       |\n",
            "|10    |test10@gmail.com|10-01-2019|106   |4.892857143|2019|2019 |1       |\n",
            "|11    |test11@gmail.com|11-01-2019|106.7 |5.214285714|2019|2019 |1       |\n",
            "|12    |test12@gmail.com|12-01-2019|107.4 |5.535714286|2019|2019 |1       |\n",
            "|13    |test13@gmail.com|13-01-2019|108.1 |5.857142857|2019|2019 |1       |\n",
            "|14    |test14@gmail.com|14-01-2019|108.8 |6.178571429|2019|2019 |1       |\n",
            "|15    |test15@gmail.com|15-01-2019|109.5 |6.5        |2019|2019 |1       |\n",
            "|16    |test16@gmail.com|16-01-2019|110.2 |6.821428571|2019|2019 |1       |\n",
            "|17    |test17@gmail.com|17-01-2019|110.9 |7.142857143|2019|2019 |1       |\n",
            "|18    |test18@gmail.com|18-01-2019|111.6 |7.464285714|2019|2019 |1       |\n",
            "|19    |test19@gmail.com|19-01-2019|112.3 |7.785714286|2019|2019 |1       |\n",
            "|20    |test20@gmail.com|20-01-2019|113   |8.107142857|2019|2019 |1       |\n",
            "+------+----------------+----------+------+-----------+----+-----+--------+\n",
            "only showing top 20 rows\n",
            "\n"
          ]
        }
      ]
    },
    {
      "cell_type": "code",
      "source": [
        "df = df.withColumn('activity',lit(1))"
      ],
      "metadata": {
        "id": "Gq7nBEeNObHN"
      },
      "execution_count": 49,
      "outputs": []
    },
    {
      "cell_type": "code",
      "source": [
        "df.show()"
      ],
      "metadata": {
        "colab": {
          "base_uri": "https://localhost:8080/"
        },
        "id": "OgiHsxIaOzxd",
        "outputId": "a0d464c8-c4ae-4c99-eca6-817eeb47b25f"
      },
      "execution_count": 50,
      "outputs": [
        {
          "output_type": "stream",
          "name": "stdout",
          "text": [
            "+------+----------------+----------+------+-----------+----+-----+--------+\n",
            "|userid|         emailid|      date|amount|   discount|year|month|activity|\n",
            "+------+----------------+----------+------+-----------+----+-----+--------+\n",
            "|     1| test1@gmail.com|01-01-2019|   100|        1.0|2019| 2019|       1|\n",
            "|     2| test2@gmail.com|02-01-2019|   100|        1.0|2019| 2019|       1|\n",
            "|     3| test3@gmail.com|03-01-2019|   101|        2.0|2019| 2019|       1|\n",
            "|     4| test4@gmail.com|04-01-2019|   102|       10.0|2019| 2019|       1|\n",
            "|     5| test5@gmail.com|05-01-2019| 102.5|        2.0|2019| 2019|       1|\n",
            "|     6| test6@gmail.com|06-01-2019| 103.2|        1.0|2019| 2019|       1|\n",
            "|     7| test7@gmail.com|07-01-2019| 103.9|        3.0|2019| 2019|       1|\n",
            "|     8| test8@gmail.com|08-01-2019| 104.6|        5.0|2019| 2019|       1|\n",
            "|     9| test9@gmail.com|09-01-2019| 105.3|4.571428571|2019| 2019|       1|\n",
            "|    10|test10@gmail.com|10-01-2019|   106|4.892857143|2019| 2019|       1|\n",
            "|    11|test11@gmail.com|11-01-2019| 106.7|5.214285714|2019| 2019|       1|\n",
            "|    12|test12@gmail.com|12-01-2019| 107.4|5.535714286|2019| 2019|       1|\n",
            "|    13|test13@gmail.com|13-01-2019| 108.1|5.857142857|2019| 2019|       1|\n",
            "|    14|test14@gmail.com|14-01-2019| 108.8|6.178571429|2019| 2019|       1|\n",
            "|    15|test15@gmail.com|15-01-2019| 109.5|        6.5|2019| 2019|       1|\n",
            "|    16|test16@gmail.com|16-01-2019| 110.2|6.821428571|2019| 2019|       1|\n",
            "|    17|test17@gmail.com|17-01-2019| 110.9|7.142857143|2019| 2019|       1|\n",
            "|    18|test18@gmail.com|18-01-2019| 111.6|7.464285714|2019| 2019|       1|\n",
            "|    19|test19@gmail.com|19-01-2019| 112.3|7.785714286|2019| 2019|       1|\n",
            "|    20|test20@gmail.com|20-01-2019|   113|8.107142857|2019| 2019|       1|\n",
            "+------+----------------+----------+------+-----------+----+-----+--------+\n",
            "only showing top 20 rows\n",
            "\n"
          ]
        }
      ]
    },
    {
      "cell_type": "code",
      "source": [
        "#Filtering by GroupBy function\n",
        "d_df = df.groupBy('year').agg(sum('amount').alias('sum'),min('amount'),count('activity'))"
      ],
      "metadata": {
        "id": "LP0Y7b6HO-Sc"
      },
      "execution_count": 51,
      "outputs": []
    },
    {
      "cell_type": "code",
      "source": [
        "d_df.show()"
      ],
      "metadata": {
        "colab": {
          "base_uri": "https://localhost:8080/"
        },
        "id": "TQMryZL1PARs",
        "outputId": "8e51a70d-b445-4ecd-9d34-d559b6952664"
      },
      "execution_count": 52,
      "outputs": [
        {
          "output_type": "stream",
          "name": "stdout",
          "text": [
            "+----------+------------------+-----------+---------------+\n",
            "|      year|               sum|min(amount)|count(activity)|\n",
            "+----------+------------------+-----------+---------------+\n",
            "|      2019|           82654.9|        100|            366|\n",
            "|      2020|176759.69999999998|      355.2|            366|\n",
            "|      2021|          113263.8|      611.4|            169|\n",
            "|ERROR_DATE|             258.6|      258.6|              1|\n",
            "+----------+------------------+-----------+---------------+\n",
            "\n"
          ]
        }
      ]
    },
    {
      "cell_type": "markdown",
      "source": [
        "# New Section"
      ],
      "metadata": {
        "id": "lTCu9hNokJxm"
      }
    }
  ]
}