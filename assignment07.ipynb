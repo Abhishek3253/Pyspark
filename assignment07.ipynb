{
  "nbformat": 4,
  "nbformat_minor": 0,
  "metadata": {
    "colab": {
      "name": "assignment07",
      "provenance": [],
      "toc_visible": true,
      "authorship_tag": "ABX9TyMJdGsJ0EnLFPADuOwf58Gm",
      "include_colab_link": true
    },
    "kernelspec": {
      "name": "python3",
      "display_name": "Python 3"
    },
    "language_info": {
      "name": "python"
    }
  },
  "cells": [
    {
      "cell_type": "markdown",
      "metadata": {
        "id": "view-in-github",
        "colab_type": "text"
      },
      "source": [
        "<a href=\"https://colab.research.google.com/github/Abhishek3253/Pyspark/blob/main/assignment07.ipynb\" target=\"_parent\"><img src=\"https://colab.research.google.com/assets/colab-badge.svg\" alt=\"Open In Colab\"/></a>"
      ]
    },
    {
      "cell_type": "code",
      "execution_count": null,
      "metadata": {
        "colab": {
          "base_uri": "https://localhost:8080/"
        },
        "id": "W9DAM8_YzugF",
        "outputId": "368c141d-0451-4865-9266-53392145635d"
      },
      "outputs": [
        {
          "output_type": "stream",
          "name": "stdout",
          "text": [
            "Mounted at /content/drive\n"
          ]
        }
      ],
      "source": [
        "from google.colab import drive\n",
        "drive.mount('/content/drive')"
      ]
    },
    {
      "cell_type": "code",
      "source": [
        "!apt-get install openjdk-8-jdk-headless -qq > /dev/null"
      ],
      "metadata": {
        "id": "H1ohEHkFz7Cz"
      },
      "execution_count": null,
      "outputs": []
    },
    {
      "cell_type": "code",
      "source": [
        "!wget -q https://dlcdn.apache.org/spark/spark-3.2.1/spark-3.2.1-bin-hadoop3.2.tgz\n",
        "!tar xf spark-3.2.1-bin-hadoop3.2.tgz\n",
        "\n",
        "!pip install -q findspark"
      ],
      "metadata": {
        "id": "MSGqZb4Nz7Fh"
      },
      "execution_count": null,
      "outputs": []
    },
    {
      "cell_type": "code",
      "source": [
        "import os\n",
        "os.environ[\"JAVA_HOME\"] = \"/usr/lib/jvm/java-8-openjdk-amd64\"\n",
        "os.environ[\"SPARK_HOME\"] = \"/content/spark-3.2.1-bin-hadoop3.2\"\n",
        "import findspark\n",
        "findspark.init()\n",
        "findspark.find()\n",
        "from pyspark.sql import SparkSession"
      ],
      "metadata": {
        "id": "75y66Jr_0H_e"
      },
      "execution_count": null,
      "outputs": []
    },
    {
      "cell_type": "code",
      "source": [
        "\n",
        "spark = SparkSession.builder\\\n",
        "        .master(\"local\")\\\n",
        "        .appName(\"Colab\")\\\n",
        "        .config('spark.ui.port', '4050')\\\n",
        "        .getOrCreate()"
      ],
      "metadata": {
        "id": "pi6vHiZR0Wnr"
      },
      "execution_count": null,
      "outputs": []
    },
    {
      "cell_type": "code",
      "source": [
        "df = spark.read.csv(r\"/content/Assign07.csv\", header=True, inferSchema=True)"
      ],
      "metadata": {
        "id": "s5KSv0AR0ZVg"
      },
      "execution_count": null,
      "outputs": []
    },
    {
      "cell_type": "code",
      "source": [
        "df.show()\n"
      ],
      "metadata": {
        "colab": {
          "base_uri": "https://localhost:8080/"
        },
        "id": "cMaEmWgW1wWf",
        "outputId": "453a50c5-ddb6-467f-e7bc-643d45dc6929"
      },
      "execution_count": null,
      "outputs": [
        {
          "output_type": "stream",
          "name": "stdout",
          "text": [
            "+------+----------------+----------+------+-----------+\n",
            "|userid|         emailid|      date|amount|   discount|\n",
            "+------+----------------+----------+------+-----------+\n",
            "|     1| test1@gmail.com|01-01-2019|   100|        1.0|\n",
            "|     2| test2@gmail.com|02-01-2019|   100|        1.0|\n",
            "|     3| test3@gmail.com|03-01-2019|   101|        2.0|\n",
            "|     4| test4@gmail.com|04-01-2019|   102|       10.0|\n",
            "|     5| test5@gmail.com|01.06.2019| 102.5|        2.0|\n",
            "|     6| test6@gmail.com|06-01-2019| 103.2|        1.0|\n",
            "|     7| test7@gmail.com|07-01-2019| 103.9|        3.0|\n",
            "|     8| test8@gmail.com|08-01-2019| 104.6|        5.0|\n",
            "|     9| test9@gmail.com|09-01-2019| 105.3|4.571428571|\n",
            "|    10|test10@gmail.com|10-01-2019|   106|4.892857143|\n",
            "|    11|test11@gmail.com|11-01-2019| 106.7|5.214285714|\n",
            "|    12|test12@gmail.com|12-01-2019| 107.4|5.535714286|\n",
            "|    13|test13@gmail.com|13-01-2019| 108.1|5.857142857|\n",
            "|    14|test14@gmail.com|14-01-2019| 108.8|6.178571429|\n",
            "|    15|test15@gmail.com|15-01-2019| 109.5|        6.5|\n",
            "|    16|test16@gmail.com|16-01-2019| 110.2|6.821428571|\n",
            "|    17|test17@gmail.com|17-01-2019| 110.9|7.142857143|\n",
            "|    18|    test18@yah�.|18-01-2019| 111.6|7.464285714|\n",
            "|    19|test19@gmail.com|19-01-2019| 112.3|7.785714286|\n",
            "|    20|test20@gmail.com|12-18-2019|   113|8.107142857|\n",
            "+------+----------------+----------+------+-----------+\n",
            "only showing top 20 rows\n",
            "\n"
          ]
        }
      ]
    },
    {
      "cell_type": "code",
      "source": [
        "df1 = df.dropna()"
      ],
      "metadata": {
        "id": "-JgfCz4Q12gt"
      },
      "execution_count": null,
      "outputs": []
    },
    {
      "cell_type": "code",
      "source": [
        "from pyspark.sql.functions import *\n",
        "from pyspark.sql.types import *"
      ],
      "metadata": {
        "id": "kFyUrb-T2ccR"
      },
      "execution_count": null,
      "outputs": []
    },
    {
      "cell_type": "code",
      "source": [
        "df2 =df.filter(df.date == 'null')"
      ],
      "metadata": {
        "id": "85d8GM6Z2lse"
      },
      "execution_count": null,
      "outputs": []
    },
    {
      "cell_type": "code",
      "source": [
        "df2.show()"
      ],
      "metadata": {
        "colab": {
          "base_uri": "https://localhost:8080/"
        },
        "id": "IWyUsQbU2nYd",
        "outputId": "c353ea7f-8111-40ab-d2f1-69177821e08c"
      },
      "execution_count": null,
      "outputs": [
        {
          "output_type": "stream",
          "name": "stdout",
          "text": [
            "+------+----------------+----+------+--------+\n",
            "|userid|         emailid|date|amount|discount|\n",
            "+------+----------------+----+------+--------+\n",
            "|    78|test78@gmail.com|null| 258.6|   26.75|\n",
            "+------+----------------+----+------+--------+\n",
            "\n"
          ]
        }
      ]
    },
    {
      "cell_type": "code",
      "source": [
        "#UDF function to check date format\n",
        "from datetime import datetime\n",
        "def func_date(str1):\n",
        "  for fmt in ('%Y-%m-%d', '%d.%m.%Y', '%d/%m/%Y','%d-%m-%Y','%dd-%mm-%yyyy' ,'%m-%d-%Y'):\n",
        "    try:\n",
        "      date_object =  datetime.strptime(str1, fmt)\n",
        "      converted_date = date_object.strftime('%d-%m-%Y')\n",
        "      return converted_date\n",
        "    except ValueError:\n",
        "      pass\n",
        "  raise ValueError('no valid date format found')"
      ],
      "metadata": {
        "id": "769-qhub2rgV"
      },
      "execution_count": null,
      "outputs": []
    },
    {
      "cell_type": "code",
      "source": [
        "ab_udf=udf(lambda x:func_date(x))"
      ],
      "metadata": {
        "id": "euVtVEBe29D6"
      },
      "execution_count": null,
      "outputs": []
    },
    {
      "cell_type": "code",
      "source": [
        "df.show(3)"
      ],
      "metadata": {
        "colab": {
          "base_uri": "https://localhost:8080/"
        },
        "id": "RNPcsqmy-Zqr",
        "outputId": "e2ba88de-a7c8-420e-e53b-04b6611d0f32"
      },
      "execution_count": null,
      "outputs": [
        {
          "output_type": "stream",
          "name": "stdout",
          "text": [
            "+------+---------------+----------+------+--------+\n",
            "|userid|        emailid|      date|amount|discount|\n",
            "+------+---------------+----------+------+--------+\n",
            "|     1|test1@gmail.com|01-01-2019|   100|     1.0|\n",
            "|     2|test2@gmail.com|02-01-2019|   100|     1.0|\n",
            "|     3|test3@gmail.com|03-01-2019|   101|     2.0|\n",
            "+------+---------------+----------+------+--------+\n",
            "only showing top 3 rows\n",
            "\n"
          ]
        }
      ]
    },
    {
      "cell_type": "code",
      "source": [
        "date_udf=df.select(col('userid'),col('emailid'),col('date'),col('amount'),col('discount'),ab_udf(col('date').alias(\"updated_date\")))"
      ],
      "metadata": {
        "id": "sGX1hpZk3H6w"
      },
      "execution_count": null,
      "outputs": []
    },
    {
      "cell_type": "code",
      "source": [
        "date_udf.show(25)"
      ],
      "metadata": {
        "colab": {
          "base_uri": "https://localhost:8080/"
        },
        "id": "ck4J8-913rNn",
        "outputId": "e1c22c2c-191e-42b8-b62d-4051fdd371f4"
      },
      "execution_count": null,
      "outputs": [
        {
          "output_type": "stream",
          "name": "stdout",
          "text": [
            "+------+----------------+----------+------+-----------+------------------------------+\n",
            "|userid|         emailid|      date|amount|   discount|<lambda>(date AS updated_date)|\n",
            "+------+----------------+----------+------+-----------+------------------------------+\n",
            "|     1| test1@gmail.com|01-01-2019|   100|        1.0|                    01-01-2019|\n",
            "|     2| test2@gmail.com|02-01-2019|   100|        1.0|                    02-01-2019|\n",
            "|     3| test3@gmail.com|03-01-2019|   101|        2.0|                    03-01-2019|\n",
            "|     4| test4@gmail.com|04-01-2019|   102|       10.0|                    04-01-2019|\n",
            "|     5| test5@gmail.com|01.06.2019| 102.5|        2.0|                    01-06-2019|\n",
            "|     6| test6@gmail.com|06-01-2019| 103.2|        1.0|                    06-01-2019|\n",
            "|     7| test7@gmail.com|07-01-2019| 103.9|        3.0|                    07-01-2019|\n",
            "|     8| test8@gmail.com|08-01-2019| 104.6|        5.0|                    08-01-2019|\n",
            "|     9| test9@gmail.com|09-01-2019| 105.3|4.571428571|                    09-01-2019|\n",
            "|    10|test10@gmail.com|10-01-2019|   106|4.892857143|                    10-01-2019|\n",
            "|    11|test11@gmail.com|11-01-2019| 106.7|5.214285714|                    11-01-2019|\n",
            "|    12|test12@gmail.com|12-01-2019| 107.4|5.535714286|                    12-01-2019|\n",
            "|    13|test13@gmail.com|13-01-2019| 108.1|5.857142857|                    13-01-2019|\n",
            "|    14|test14@gmail.com|14-01-2019| 108.8|6.178571429|                    14-01-2019|\n",
            "|    15|test15@gmail.com|15-01-2019| 109.5|        6.5|                    15-01-2019|\n",
            "|    16|test16@gmail.com|16-01-2019| 110.2|6.821428571|                    16-01-2019|\n",
            "|    17|test17@gmail.com|17-01-2019| 110.9|7.142857143|                    17-01-2019|\n",
            "|    18|    test18@yah�.|18-01-2019| 111.6|7.464285714|                    18-01-2019|\n",
            "|    19|test19@gmail.com|19-01-2019| 112.3|7.785714286|                    19-01-2019|\n",
            "|    20|test20@gmail.com|12-18-2019|   113|8.107142857|                    18-12-2019|\n",
            "|    21|test21@gmail.com|04-24-2019| 113.7|8.428571429|                    24-04-2019|\n",
            "|    22|test22@gmail.com|22-01-2019| 114.4|       8.75|                    22-01-2019|\n",
            "|    23|test23@gmail.com|23-01-2019| 115.1|9.071428571|                    23-01-2019|\n",
            "|    24|test24@gmail.com|24-01-2019| 115.8|9.392857143|                    24-01-2019|\n",
            "|    25|test25@gmail.com|25-01-2019| 116.5|9.714285714|                    25-01-2019|\n",
            "+------+----------------+----------+------+-----------+------------------------------+\n",
            "only showing top 25 rows\n",
            "\n"
          ]
        }
      ]
    },
    {
      "cell_type": "code",
      "source": [
        "pip install validate_email"
      ],
      "metadata": {
        "colab": {
          "base_uri": "https://localhost:8080/"
        },
        "id": "ImBZ-iug8lzk",
        "outputId": "b60b59de-9211-4694-9748-5149ba5ef8dd"
      },
      "execution_count": null,
      "outputs": [
        {
          "output_type": "stream",
          "name": "stdout",
          "text": [
            "Looking in indexes: https://pypi.org/simple, https://us-python.pkg.dev/colab-wheels/public/simple/\n",
            "Collecting validate_email\n",
            "  Downloading validate_email-1.3.tar.gz (4.7 kB)\n",
            "Building wheels for collected packages: validate-email\n",
            "  Building wheel for validate-email (setup.py) ... \u001b[?25l\u001b[?25hdone\n",
            "  Created wheel for validate-email: filename=validate_email-1.3-py3-none-any.whl size=5482 sha256=d9f22cfd0ca332b3bd3bec6aba132149974e1669edb57e24cfc35ddd38ace7d6\n",
            "  Stored in directory: /root/.cache/pip/wheels/ff/8f/92/c43287715852eaa75e0d8aa1941c481072b4a82c4f4975074e\n",
            "Successfully built validate-email\n",
            "Installing collected packages: validate-email\n",
            "Successfully installed validate-email-1.3\n"
          ]
        }
      ]
    },
    {
      "cell_type": "code",
      "source": [
        "from validate_email import validate_email\n",
        "def email_validation(str1):\n",
        "  is_valid = validate_email(str1)\n",
        "  if is_valid:\n",
        "    return str1\n",
        "  else:\n",
        "    return \"error\""
      ],
      "metadata": {
        "id": "gorvTZPb8wNP"
      },
      "execution_count": null,
      "outputs": []
    },
    {
      "cell_type": "code",
      "source": [
        "abi_udf=udf(lambda x:validate_email(x))"
      ],
      "metadata": {
        "id": "CEeC1u6V832J"
      },
      "execution_count": null,
      "outputs": []
    },
    {
      "cell_type": "code",
      "source": [
        "Varify_email=df.select(col(\"emailid\"),abi_udf(col('emailid').alias('varified_result')))"
      ],
      "metadata": {
        "id": "XOW2l7XQ9IFw"
      },
      "execution_count": null,
      "outputs": []
    },
    {
      "cell_type": "code",
      "source": [
        "Varify_email.show()"
      ],
      "metadata": {
        "colab": {
          "base_uri": "https://localhost:8080/"
        },
        "id": "HaG_soXW9kxV",
        "outputId": "08ce48b7-fc53-4f34-a053-1256c0e30656"
      },
      "execution_count": null,
      "outputs": [
        {
          "output_type": "stream",
          "name": "stdout",
          "text": [
            "+----------------+------------------------------------+\n",
            "|         emailid|<lambda>(emailid AS varified_result)|\n",
            "+----------------+------------------------------------+\n",
            "| test1@gmail.com|                                true|\n",
            "| test2@gmail.com|                                true|\n",
            "| test3@gmail.com|                                true|\n",
            "| test4@gmail.com|                                true|\n",
            "| test5@gmail.com|                                true|\n",
            "| test6@gmail.com|                                true|\n",
            "| test7@gmail.com|                                true|\n",
            "| test8@gmail.com|                                true|\n",
            "| test9@gmail.com|                                true|\n",
            "|test10@gmail.com|                                true|\n",
            "|test11@gmail.com|                                true|\n",
            "|test12@gmail.com|                                true|\n",
            "|test13@gmail.com|                                true|\n",
            "|test14@gmail.com|                                true|\n",
            "|test15@gmail.com|                                true|\n",
            "|test16@gmail.com|                                true|\n",
            "|test17@gmail.com|                                true|\n",
            "|    test18@yah�.|                               false|\n",
            "|test19@gmail.com|                                true|\n",
            "|test20@gmail.com|                                true|\n",
            "+----------------+------------------------------------+\n",
            "only showing top 20 rows\n",
            "\n"
          ]
        }
      ]
    },
    {
      "cell_type": "markdown",
      "source": [
        ""
      ],
      "metadata": {
        "id": "f5TcfSLp-QNW"
      }
    },
    {
      "cell_type": "code",
      "source": [
        "df.filter(Varify_email.varified_result==\"false\").show()"
      ],
      "metadata": {
        "colab": {
          "base_uri": "https://localhost:8080/",
          "height": 287
        },
        "id": "9notiMQxB363",
        "outputId": "ad454314-e02b-4eb7-c027-9cc12593a4da"
      },
      "execution_count": null,
      "outputs": [
        {
          "output_type": "error",
          "ename": "AttributeError",
          "evalue": "ignored",
          "traceback": [
            "\u001b[0;31m---------------------------------------------------------------------------\u001b[0m",
            "\u001b[0;31mAttributeError\u001b[0m                            Traceback (most recent call last)",
            "\u001b[0;32m<ipython-input-72-b253981c50e3>\u001b[0m in \u001b[0;36m<module>\u001b[0;34m()\u001b[0m\n\u001b[0;32m----> 1\u001b[0;31m \u001b[0mdf\u001b[0m\u001b[0;34m.\u001b[0m\u001b[0mfilter\u001b[0m\u001b[0;34m(\u001b[0m\u001b[0mVarify_email\u001b[0m\u001b[0;34m.\u001b[0m\u001b[0mvarified_result\u001b[0m\u001b[0;34m==\u001b[0m\u001b[0;34m\"false\"\u001b[0m\u001b[0;34m)\u001b[0m\u001b[0;34m.\u001b[0m\u001b[0mshow\u001b[0m\u001b[0;34m(\u001b[0m\u001b[0;34m)\u001b[0m\u001b[0;34m\u001b[0m\u001b[0;34m\u001b[0m\u001b[0m\n\u001b[0m",
            "\u001b[0;32m/content/spark-3.2.1-bin-hadoop3.2/python/pyspark/sql/dataframe.py\u001b[0m in \u001b[0;36m__getattr__\u001b[0;34m(self, name)\u001b[0m\n\u001b[1;32m   1658\u001b[0m         \u001b[0;32mif\u001b[0m \u001b[0mname\u001b[0m \u001b[0;32mnot\u001b[0m \u001b[0;32min\u001b[0m \u001b[0mself\u001b[0m\u001b[0;34m.\u001b[0m\u001b[0mcolumns\u001b[0m\u001b[0;34m:\u001b[0m\u001b[0;34m\u001b[0m\u001b[0;34m\u001b[0m\u001b[0m\n\u001b[1;32m   1659\u001b[0m             raise AttributeError(\n\u001b[0;32m-> 1660\u001b[0;31m                 \"'%s' object has no attribute '%s'\" % (self.__class__.__name__, name))\n\u001b[0m\u001b[1;32m   1661\u001b[0m         \u001b[0mjc\u001b[0m \u001b[0;34m=\u001b[0m \u001b[0mself\u001b[0m\u001b[0;34m.\u001b[0m\u001b[0m_jdf\u001b[0m\u001b[0;34m.\u001b[0m\u001b[0mapply\u001b[0m\u001b[0;34m(\u001b[0m\u001b[0mname\u001b[0m\u001b[0;34m)\u001b[0m\u001b[0;34m\u001b[0m\u001b[0;34m\u001b[0m\u001b[0m\n\u001b[1;32m   1662\u001b[0m         \u001b[0;32mreturn\u001b[0m \u001b[0mColumn\u001b[0m\u001b[0;34m(\u001b[0m\u001b[0mjc\u001b[0m\u001b[0;34m)\u001b[0m\u001b[0;34m\u001b[0m\u001b[0;34m\u001b[0m\u001b[0m\n",
            "\u001b[0;31mAttributeError\u001b[0m: 'DataFrame' object has no attribute 'varified_result'"
          ]
        }
      ]
    }
  ]
}